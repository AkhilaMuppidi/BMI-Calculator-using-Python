{
 "cells": [
  {
   "cell_type": "markdown",
   "id": "f1761ab3",
   "metadata": {},
   "source": [
    "# BMI CALCULATOR"
   ]
  },
  {
   "cell_type": "code",
   "execution_count": 5,
   "id": "61860afe",
   "metadata": {},
   "outputs": [],
   "source": [
    "#BMI = (weight in pounds * 703) / (height in inches * height in inches)"
   ]
  },
  {
   "cell_type": "code",
   "execution_count": null,
   "id": "2b35669a",
   "metadata": {},
   "outputs": [],
   "source": [
    "# BMI\tStatus\n",
    "≤ 18.4      : Underweight\n",
    "18.5 - 24.9 : Normal\n",
    "25.0 - 39.9 : Overweight\n",
    "≥ 40.0      : Obese"
   ]
  },
  {
   "cell_type": "code",
   "execution_count": 6,
   "id": "483b0f88",
   "metadata": {},
   "outputs": [
    {
     "name": "stdout",
     "output_type": "stream",
     "text": [
      "Enter your Name: Akhila\n",
      "Weight in pounds: 119.06\n",
      "height in inches: 66\n",
      "19.214687786960518\n",
      "Akhila, you are Normal weight\n"
     ]
    }
   ],
   "source": [
    "name = input('Enter your Name: ')\n",
    "weight = float(input('Weight in pounds: '))\n",
    "height = float(input('height in inches: '))\n",
    "BMI = (weight * 703) / (height ** 2)\n",
    "print(BMI)\n",
    "if BMI > 0:\n",
    "    if BMI <= 18.4:\n",
    "        print(name + ', you are Underweight')   \n",
    "    elif BMI >= 18.4 and BMI <= 24.9:\n",
    "        print(name + ', you are Normal weight')\n",
    "    elif  BMI >= 24.9 and BMI <= 39.9:\n",
    "        print(name + ', you are Overweight')\n",
    "    else:\n",
    "        print(name + ', you are obese')\n",
    "else: \n",
    "    print(name + ', Please Enter Valid Inputs')"
   ]
  },
  {
   "cell_type": "code",
   "execution_count": null,
   "id": "46ca2c5a",
   "metadata": {},
   "outputs": [],
   "source": []
  },
  {
   "cell_type": "code",
   "execution_count": null,
   "id": "7f064695",
   "metadata": {},
   "outputs": [],
   "source": []
  }
 ],
 "metadata": {
  "kernelspec": {
   "display_name": "Python 3 (ipykernel)",
   "language": "python",
   "name": "python3"
  },
  "language_info": {
   "codemirror_mode": {
    "name": "ipython",
    "version": 3
   },
   "file_extension": ".py",
   "mimetype": "text/x-python",
   "name": "python",
   "nbconvert_exporter": "python",
   "pygments_lexer": "ipython3",
   "version": "3.11.5"
  }
 },
 "nbformat": 4,
 "nbformat_minor": 5
}
